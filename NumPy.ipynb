{
  "nbformat": 4,
  "nbformat_minor": 0,
  "metadata": {
    "colab": {
      "provenance": [],
      "authorship_tag": "ABX9TyNSsR6gbt+MW90lljAJfh9g",
      "include_colab_link": true
    },
    "kernelspec": {
      "name": "python3",
      "display_name": "Python 3"
    },
    "language_info": {
      "name": "python"
    }
  },
  "cells": [
    {
      "cell_type": "markdown",
      "metadata": {
        "id": "view-in-github",
        "colab_type": "text"
      },
      "source": [
        "<a href=\"https://colab.research.google.com/github/JulTob/Python/blob/master/NumPy.ipynb\" target=\"_parent\"><img src=\"https://colab.research.google.com/assets/colab-badge.svg\" alt=\"Open In Colab\"/></a>"
      ]
    },
    {
      "cell_type": "markdown",
      "source": [
        "# Introduction to NumPy\n",
        "\n",
        "NumPy (Numerical Python) is a fundamental library for numerical computing in Python. It provides support for large, multi-dimensional arrays and matrices, along with a large collection of high-level mathematical functions to operate on these arrays.\n",
        "\n",
        "## **What is NumPy used for?**\n",
        "\n",
        "*   ### **Numerical Operations:**\n",
        "    - Performing efficient mathematical and statistical operations on large datasets.\n",
        "*   ### **Working with Arrays:**\n",
        "    - Creating, manipulating, and operating on N-dimensional arrays (ndarrays), which are the core data structure in NumPy.\n",
        "\n",
        "## **Why is NumPy important in data science?**\n",
        "\n",
        "*   ### **Efficiency:**\n",
        "    - NumPy operations are implemented in C, making them significantly faster than equivalent operations on Python lists, especially for large datasets.\n",
        "    - This efficiency is crucial for performance in data analysis and machine learning tasks.\n",
        "*   **Foundation for Other Libraries:**\n",
        "    - Many other popular data science libraries in Python, such as Pandas, Scikit-learn, and Matplotlib, are built on top of NumPy.\n",
        "    - Understanding NumPy is essential for effectively using these libraries.\n",
        "*   **Mathematical Functions:**\n",
        "    - NumPy provides a comprehensive set of mathematical functions that can be applied to arrays, simplifying complex calculations."
      ],
      "metadata": {
        "id": "3rIpWm8ajijb"
      }
    },
    {
      "cell_type": "markdown",
      "metadata": {
        "id": "54093f36"
      },
      "source": [
        "### Installing NumPy\n",
        "\n",
        "NumPy can be easily installed using pip, the standard package installer for Python.\n",
        "\n",
        "Open your terminal or command prompt and run the following command:\n",
        "\n",
        "```bash\n",
        "pip install numpy\n",
        "```\n",
        "\n",
        "This command will download and install the latest version of NumPy and its dependencies.\n"
      ]
    },
    {
      "cell_type": "markdown",
      "metadata": {
        "id": "0e3aba59"
      },
      "source": [
        "## Importing numpy\n",
        "\n",
        "\n",
        "Before you can use NumPy in your Python code, you need to import it.\n",
        "\n",
        "The standard and widely accepted way to import NumPy is using the following statement:\n",
        "\n",
        "```python\n",
        "import numpy as np\n",
        "```\n",
        "\n",
        "Here, `import numpy` tells Python to load the NumPy library, and `as np` assigns the alias `np` to the library. This alias is a convention and makes it much shorter to refer to NumPy functions and objects throughout your code (e.g., you can type `np.array` instead of `numpy.array`).\n",
        "\n",
        "Let's see the import statement in a code block:\n",
        "\n"
      ]
    },
    {
      "cell_type": "code",
      "source": [
        "import numpy as np"
      ],
      "metadata": {
        "id": "OUceZkGylVH3"
      },
      "execution_count": 18,
      "outputs": []
    },
    {
      "cell_type": "markdown",
      "metadata": {
        "id": "accb891a"
      },
      "source": [
        "# Creating Arrays\n",
        "\n",
        "NumPy arrays, also known as `ndarrays`, are the core data structure in NumPy.\n",
        "\n",
        "You can create them from existing Python lists and tuples using the `np.array()` function.\n",
        "\n",
        "\n"
      ]
    },
    {
      "cell_type": "markdown",
      "source": [
        "### **Creating a 1-dimensional array from a list:**"
      ],
      "metadata": {
        "id": "pgBFsAcrl9Eh"
      }
    },
    {
      "cell_type": "code",
      "source": [
        "print(\"1-dimensional array from list:\")\n",
        "my_list = [1, 2, 3, 4, 5]\n",
        "list_array = np.array(my_list)\n",
        "print(list_array)"
      ],
      "metadata": {
        "colab": {
          "base_uri": "https://localhost:8080/"
        },
        "id": "JGrA2CtxltIm",
        "outputId": "7d019c38-4078-4bbb-dbff-47ad5ff995b8"
      },
      "execution_count": 34,
      "outputs": [
        {
          "output_type": "stream",
          "name": "stdout",
          "text": [
            "1-dimensional array from list:\n",
            "[1 2 3 4 5]\n"
          ]
        }
      ]
    },
    {
      "cell_type": "markdown",
      "source": [
        "### **Creating a 2-dimensional array from a list of lists:**"
      ],
      "metadata": {
        "id": "fCcUguvnmA-0"
      }
    },
    {
      "cell_type": "code",
      "source": [
        "print(\"\\n2-dimensional array from list of lists:\")\n",
        "my_list_of_lists = [\n",
        "    [1, 2, 3],\n",
        "    [4, 5, 6]]\n",
        "list_array2 = np.array(my_list_of_lists)\n",
        "print(list_array2)"
      ],
      "metadata": {
        "colab": {
          "base_uri": "https://localhost:8080/"
        },
        "id": "bUFMMYR3mEIG",
        "outputId": "20cabba7-2aec-45e3-84fc-cd6568b06cdd"
      },
      "execution_count": 35,
      "outputs": [
        {
          "output_type": "stream",
          "name": "stdout",
          "text": [
            "\n",
            "2-dimensional array from list of lists:\n",
            "[[1 2 3]\n",
            " [4 5 6]]\n"
          ]
        }
      ]
    },
    {
      "cell_type": "markdown",
      "source": [
        "### **Creating a 1-dimensional array from a tuple:**"
      ],
      "metadata": {
        "id": "GXzpxZQkmdAU"
      }
    },
    {
      "cell_type": "code",
      "source": [
        "print(\"\\n1-dimensional array from tuple:\")\n",
        "my_tuple = (10, 20, 30, 40, 50)\n",
        "tuple_array = np.array(my_tuple)\n",
        "print(tuple_array)"
      ],
      "metadata": {
        "colab": {
          "base_uri": "https://localhost:8080/"
        },
        "id": "-LBSia-2mjka",
        "outputId": "9aaeca9e-2105-48a9-972a-f134aaf7f899"
      },
      "execution_count": 31,
      "outputs": [
        {
          "output_type": "stream",
          "name": "stdout",
          "text": [
            "[10 20 30 40 50]\n"
          ]
        }
      ]
    },
    {
      "cell_type": "code",
      "source": [
        "print(\"\\n2-dimensional array from tuple of touples:\")\n",
        "my_tuple = (\n",
        "    (10, 20), (30, 40), (50,60)\n",
        "    )\n",
        "tuple_array2 = np.array(my_tuple)\n",
        "print(tuple_array2)"
      ],
      "metadata": {
        "colab": {
          "base_uri": "https://localhost:8080/"
        },
        "id": "7CuiXkcOm_YU",
        "outputId": "179e125a-51fe-45e3-9ddd-7fd0d1bd99c3"
      },
      "execution_count": 33,
      "outputs": [
        {
          "output_type": "stream",
          "name": "stdout",
          "text": [
            "[[10 20]\n",
            " [30 40]\n",
            " [50 60]]\n"
          ]
        }
      ]
    },
    {
      "cell_type": "markdown",
      "source": [
        "We can also combine them:"
      ],
      "metadata": {
        "id": "TWra4V66nhS8"
      }
    },
    {
      "cell_type": "code",
      "metadata": {
        "colab": {
          "base_uri": "https://localhost:8080/"
        },
        "id": "2a539087",
        "outputId": "8123b1c6-d5ca-4298-ad4e-e1f071834e91"
      },
      "source": [
        "print(\"Combined arrays\")\n",
        "my_list_of_tuples = [ (1, 2), (3, 4)]\n",
        "numpy_array1 = np.array(my_list_of_tuples)\n",
        "print(numpy_array1)\n",
        "\n",
        "my_tuple_of_lists = ([ 10, 20, 30], [30, 40, 50])\n",
        "numpy_array2 = np.array(my_tuple_of_lists)\n",
        "print(numpy_array2)"
      ],
      "execution_count": 43,
      "outputs": [
        {
          "output_type": "stream",
          "name": "stdout",
          "text": [
            "Combined arrays\n",
            "[[1 2]\n",
            " [3 4]]\n",
            "[[10 20 30]\n",
            " [30 40 50]]\n"
          ]
        }
      ]
    },
    {
      "cell_type": "markdown",
      "metadata": {
        "id": "7748b65c"
      },
      "source": [
        "## Array attributes\n",
        "\n",
        "NumPy arrays have several important attributes that provide information about their structure and the data they contain. Key attributes include:\n",
        "\n",
        "* ### **`shape`**:\n",
        "    - This attribute returns a tuple of integers representing the dimensions of the array.\n",
        "    - For a 2D array with 2 rows and 3 columns, the shape would be `(2, 3)`.\n",
        "\n",
        "* ### **`dtype`**:\n",
        "    - This attribute returns the data type of the elements in the array (e.g., `int64`, `float64`).\n",
        "    - All elements in a NumPy array have the same data type.\n",
        "\n",
        "* ### **`size`**\n",
        "    - This attribute returns the total number of elements in the array.\n",
        "    - It is the product of the elements of the `shape` tuple."
      ]
    },
    {
      "cell_type": "markdown",
      "source": [
        "Let's demonstrate these attributes using the arrays we created previously."
      ],
      "metadata": {
        "id": "jqnhWlQnpKmX"
      }
    },
    {
      "cell_type": "code",
      "metadata": {
        "colab": {
          "base_uri": "https://localhost:8080/"
        },
        "id": "f7043de8",
        "outputId": "46aedafd-e812-43d1-e9b4-bc523526930c"
      },
      "source": [
        "print(\"Attributes of numpy_array1:\")\n",
        "print(\"Shape:\", numpy_array1.shape)\n",
        "print(\"Dtype:\", numpy_array1.dtype)\n",
        "print(\"Size:\", numpy_array1.size)\n",
        "\n",
        "print(\"\\nAttributes of numpy_array2:\")\n",
        "print(\"Shape:\", numpy_array2.shape)\n",
        "print(\"Dtype:\", numpy_array2.dtype)\n",
        "print(\"Size:\", numpy_array2.size)"
      ],
      "execution_count": 44,
      "outputs": [
        {
          "output_type": "stream",
          "name": "stdout",
          "text": [
            "Attributes of numpy_array_from_list_of_lists:\n",
            "Shape: (2, 2)\n",
            "Dtype: int64\n",
            "Size: 4\n",
            "\n",
            "Attributes of numpy_array_from_tuple:\n",
            "Shape: (2, 3)\n",
            "Dtype: int64\n",
            "Size: 6\n"
          ]
        }
      ]
    },
    {
      "cell_type": "markdown",
      "metadata": {
        "id": "cae45840"
      },
      "source": [
        "## Array indexing and slicing\n",
        "\n",
        "NumPy arrays support indexing and slicing, similar to Python lists, but with extensions for multi-dimensional arrays.\n",
        "\n"
      ]
    },
    {
      "cell_type": "markdown",
      "metadata": {
        "id": "07d56ab1"
      },
      "source": [
        "# **Indexing:**\n",
        "You can access individual elements in a NumPy array using square brackets `[]` and their index.\n",
        "- For 1D arrays, a single index is used.\n",
        "- For 2D arrays, you use a comma-separated pair of indices `[row_index, column_index]`.\n",
        "\n",
        "⚠️ Remember that indexing is zero-based.\n"
      ]
    },
    {
      "cell_type": "code",
      "source": [
        "print(\"Example (1D array):\")\n",
        "arr_1d = np.array([11, 22, 33, 44, 55])\n",
        "print(arr_1d)\n",
        "print(arr_1d[0])\n",
        "    # Accessing the first element\n",
        "print(arr_1d[3])\n",
        "    # Accessing the fourth element\n"
      ],
      "metadata": {
        "colab": {
          "base_uri": "https://localhost:8080/"
        },
        "id": "GzmPL9U_p8ch",
        "outputId": "a4d51ea3-4998-472b-921e-1b7da2d4c39b"
      },
      "execution_count": 49,
      "outputs": [
        {
          "output_type": "stream",
          "name": "stdout",
          "text": [
            "Example (1D array):\n",
            "[11 22 33 44 55]\n",
            "11\n",
            "44\n"
          ]
        }
      ]
    },
    {
      "cell_type": "code",
      "source": [
        "print(\"Example (2D array):\")\n",
        "arr_2d = np.array([[11, 12, 13], [24, 25, 26], [37, 38, 39]])\n",
        "print(arr_2d)\n",
        "print(arr_2d[0, 0])\n",
        "    # Accessing the element in the first row and first column\n",
        "print(arr_2d[1, 2])\n",
        "    # Accessing the element in the second row and third column\n"
      ],
      "metadata": {
        "colab": {
          "base_uri": "https://localhost:8080/"
        },
        "id": "bQbYzw7tqSNu",
        "outputId": "81c6c835-03e5-467e-a273-2934e6c7e9ae"
      },
      "execution_count": 50,
      "outputs": [
        {
          "output_type": "stream",
          "name": "stdout",
          "text": [
            "Example (2D array):\n",
            "[[11 12 13]\n",
            " [24 25 26]\n",
            " [37 38 39]]\n",
            "11\n",
            "26\n"
          ]
        }
      ]
    },
    {
      "cell_type": "markdown",
      "source": [
        "# **Slicing:**\n",
        "Slicing allows you to extract a subarray from a NumPy array.\n",
        "\n",
        "The syntax is `[start:stop:step]`, where\n",
        "- `start` is the beginning index (inclusive),\n",
        "- `stop` is the ending index (exclusive),\n",
        "- and `step` is the interval between elements.\n",
        "\n",
        "If `start`, `stop`, or `step` are omitted, they default to the beginning, end, and 1 respectively."
      ],
      "metadata": {
        "id": "zfRt3CzGqppP"
      }
    },
    {
      "cell_type": "code",
      "source": [
        "print(\"Example (1D array slicing):\")\n",
        "arr_1d = np.array([10, 20, 30, 40, 50])\n",
        "print(arr_1d)\n",
        "print(arr_1d[1:4])\n",
        "    # Elements from index 1 up to (but not including) index 4\n",
        "print(arr_1d[:3])\n",
        "    # Elements from the beginning up to (but not including) index 3\n",
        "print(arr_1d[2:])\n",
        "    # Elements from index 2 to the end\n",
        "print(arr_1d[::2])\n",
        "    # Every second element"
      ],
      "metadata": {
        "colab": {
          "base_uri": "https://localhost:8080/"
        },
        "id": "n_IqRVP0q_86",
        "outputId": "45486115-fc9e-4301-d0df-5bb238b4510a"
      },
      "execution_count": 52,
      "outputs": [
        {
          "output_type": "stream",
          "name": "stdout",
          "text": [
            "Example (1D array slicing):\n",
            "[10 20 30 40 50]\n",
            "[20 30 40]\n",
            "[10 20 30]\n",
            "[30 40 50]\n",
            "[10 30 50]\n"
          ]
        }
      ]
    },
    {
      "cell_type": "code",
      "metadata": {
        "colab": {
          "base_uri": "https://localhost:8080/"
        },
        "id": "a264d8be",
        "outputId": "33875de5-5134-490f-b1bb-0105f80d49b0"
      },
      "source": [
        "print(\"Example (2D array slicing):\")\n",
        "\n",
        "arr_2d = np.array([[1, 2, 3], [4, 5, 6], [7, 8, 9]])\n",
        "print(arr_2d)\n",
        "\n",
        "print(arr_2d[0:2, 1:3])\n",
        "    # Rows from index 0 up to 2, columns from index 1 up to 3\n",
        "print(arr_2d[:, 0])\n",
        "    # All rows, only the first column\n",
        "print(arr_2d[1, :])\n",
        "    # Second row, all columns\n"
      ],
      "execution_count": 54,
      "outputs": [
        {
          "output_type": "stream",
          "name": "stdout",
          "text": [
            "Example (2D array slicing):\n",
            "[[1 2 3]\n",
            " [4 5 6]\n",
            " [7 8 9]]\n",
            "[[2 3]\n",
            " [5 6]]\n",
            "[1 4 7]\n",
            "[4 5 6]\n"
          ]
        }
      ]
    },
    {
      "cell_type": "markdown",
      "metadata": {
        "id": "64b5a1c2"
      },
      "source": [
        "# Array operations\n",
        "\n",
        "NumPy's power lies in its ability to perform operations on entire arrays efficiently.\n",
        "\n",
        " Two key concepts for understanding these operations are **element-wise operations** and **broadcasting**.\n",
        "\n",
        "## Element-wise Operations\n",
        "\n",
        "When performing arithmetic operations (+, -, *, /) between two NumPy arrays of the same shape, the operation is applied to each corresponding element in the arrays.\n",
        "\n",
        "The result is a new array with the same shape as the input arrays.\n",
        "\n",
        "Similarly, when performing arithmetic operations between a NumPy array and a scalar (a single number), the operation is applied to each element of the array.\n"
      ]
    },
    {
      "cell_type": "code",
      "source": [
        "arr1 = np.array([1, 2, 3])\n",
        "arr2 = np.array([4, 5, 6])\n",
        "\n",
        "# Element-wise addition\n",
        "addition_result = arr1 + arr2\n",
        "\n",
        "# Element-wise multiplication\n",
        "multiplication_result = arr1 * arr2\n",
        "\n",
        "# Element-wise addition with a scalar\n",
        "scalar_addition_result = arr1 + 10\n",
        "\n",
        "print(arr1)\n",
        "print(arr2)\n",
        "print(addition_result)\n",
        "print(multiplication_result)\n",
        "print(scalar_addition_result)"
      ],
      "metadata": {
        "colab": {
          "base_uri": "https://localhost:8080/"
        },
        "id": "x4J7RQED2aPx",
        "outputId": "8cff6262-df90-45b0-e5d2-6447ebdc21eb"
      },
      "execution_count": 56,
      "outputs": [
        {
          "output_type": "stream",
          "name": "stdout",
          "text": [
            "[1 2 3]\n",
            "[4 5 6]\n",
            "[5 7 9]\n",
            "[ 4 10 18]\n",
            "[11 12 13]\n"
          ]
        }
      ]
    },
    {
      "cell_type": "markdown",
      "source": [
        "# **Broadcasting:**\n",
        "\n",
        " Broadcasting is a mechanism that allows NumPy to perform operations on arrays of different shapes.\n",
        "\n",
        " When the shapes of two arrays are not the same, NumPy attempts to \"broadcast\" the smaller array across the larger array so that they have compatible shapes for the operation.\n",
        "\n",
        "The broadcasting rules are as follows:\n",
        "1. If the arrays do not have the same number of dimensions, the shape of the smaller dimension array is padded with ones on its left side.\n",
        "2. If the shapes of the two arrays still do not match in any dimension, and neither dimension is 1, an error is raised.\n",
        "3. Dimensions with size 1 are stretched to match the size of the other array's dimension."
      ],
      "metadata": {
        "id": "De5wIkT13aYw"
      }
    },
    {
      "cell_type": "code",
      "metadata": {
        "colab": {
          "base_uri": "https://localhost:8080/"
        },
        "id": "93f8ac3b",
        "outputId": "1e607d22-48e1-45a0-cb1c-081d589a3061"
      },
      "source": [
        "arr_broadcast_1 = np.array([[1, 2, 3], [4, 5, 6]]) # Shape (2, 3)\n",
        "scalar = 5 # Treated as shape () or effectively (1, 1) for broadcasting\n",
        "\n",
        "print(\"Broadcasting scalar to the array\")\n",
        "broadcast_result_scalar = arr_broadcast_1 * scalar\n",
        "print(broadcast_result_scalar)\n",
        "\n",
        "arr_broadcast_2 = np.array([10, 20, 30]) # Shape (3,)\n",
        "\n",
        "print(\" Broadcasting a 1D array to a 2D array\")\n",
        "broadcast_result_array = arr_broadcast_1 + arr_broadcast_2\n",
        "print(broadcast_result_array)\n"
      ],
      "execution_count": 59,
      "outputs": [
        {
          "output_type": "stream",
          "name": "stdout",
          "text": [
            "Broadcasting scalar to the array\n",
            "[[ 5 10 15]\n",
            " [20 25 30]]\n",
            " Broadcasting a 1D array to a 2D array\n",
            "[[11 22 33]\n",
            " [14 25 36]]\n"
          ]
        }
      ]
    },
    {
      "cell_type": "markdown",
      "metadata": {
        "id": "3bb05073"
      },
      "source": [
        "**Reasoning**:\n",
        "Demonstrate the element-wise operations and broadcasting examples explained in the markdown cell using sample NumPy arrays and print the results.\n",
        "\n"
      ]
    },
    {
      "cell_type": "code",
      "metadata": {
        "colab": {
          "base_uri": "https://localhost:8080/"
        },
        "id": "cb0bf16d",
        "outputId": "02001117-0963-4c0b-b9a3-a2cc99ac595d"
      },
      "source": [
        "print(\"--- Demonstrating Element-wise Operations ---\")\n",
        "\n",
        "arr1 = np.array([1, 2, 3])\n",
        "arr2 = np.array([4, 5, 6])\n",
        "\n",
        "# Element-wise addition\n",
        "addition_result = arr1 + arr2\n",
        "print(\"\\nElement-wise addition of arr1 and arr2:\", addition_result)\n",
        "\n",
        "# Element-wise multiplication\n",
        "multiplication_result = arr1 * arr2\n",
        "print(\"Element-wise multiplication of arr1 and arr2:\", multiplication_result)\n",
        "\n",
        "# Element-wise addition with a scalar\n",
        "scalar_addition_result = arr1 + 10\n",
        "print(\"Element-wise addition of arr1 and scalar 10:\", scalar_addition_result)\n",
        "\n",
        "print(\"\\n--- Demonstrating Broadcasting ---\")\n",
        "\n",
        "arr_broadcast_1 = np.array([[1, 2, 3], [4, 5, 6]]) # Shape (2, 3)\n",
        "scalar = 5 # Treated as shape () or effectively (1, 1) for broadcasting\n",
        "\n",
        "# Broadcasting scalar to the array\n",
        "broadcast_result_scalar = arr_broadcast_1 * scalar\n",
        "print(\"\\nBroadcasting scalar 5 to arr_broadcast_1:\\n\", broadcast_result_scalar)\n",
        "\n",
        "arr_broadcast_2 = np.array([10, 20, 30]) # Shape (3,)\n",
        "\n",
        "# Broadcasting a 1D array to a 2D array\n",
        "broadcast_result_array = arr_broadcast_1 * arr_broadcast_2\n",
        "print(\"Broadcasting arr_broadcast_2 to arr_broadcast_1:\\n\", broadcast_result_array)"
      ],
      "execution_count": 61,
      "outputs": [
        {
          "output_type": "stream",
          "name": "stdout",
          "text": [
            "--- Demonstrating Element-wise Operations ---\n",
            "\n",
            "Element-wise addition of arr1 and arr2: [5 7 9]\n",
            "Element-wise multiplication of arr1 and arr2: [ 4 10 18]\n",
            "Element-wise addition of arr1 and scalar 10: [11 12 13]\n",
            "\n",
            "--- Demonstrating Broadcasting ---\n",
            "\n",
            "Broadcasting scalar 5 to arr_broadcast_1:\n",
            " [[ 5 10 15]\n",
            " [20 25 30]]\n",
            "Broadcasting arr_broadcast_2 to arr_broadcast_1:\n",
            " [[ 10  40  90]\n",
            " [ 40 100 180]]\n"
          ]
        }
      ]
    },
    {
      "cell_type": "markdown",
      "metadata": {
        "id": "bd0d5a85"
      },
      "source": [
        "# Common NumPy Functions\n",
        "\n",
        "NumPy provides a wide range of mathematical and statistical functions that can be applied to arrays.\n",
        "\n",
        "Some of the most commonly used functions include:\n",
        "\n",
        "*   **`np.sum()`**: Calculates the sum of all elements in an array, or the sum along a specific axis.\n",
        "*   **`np.mean()`**: Calculates the arithmetic mean (average) of all elements in an array, or the mean along a specific axis.\n",
        "*   **`np.max()`**: Finds the maximum value among all elements in an array, or the maximum along a specific axis.\n",
        "*   **`np.min()`**: Finds the minimum value among all elements in an array, or the minimum along a specific axis.\n",
        "\n",
        "These functions are very useful for quickly getting summary statistics from your data."
      ]
    },
    {
      "cell_type": "markdown",
      "metadata": {
        "id": "8e719bcb"
      },
      "source": [
        "**Reasoning**:\n",
        "Demonstrate the usage of `np.sum`, `np.mean`, `np.max`, and `np.min` on existing NumPy arrays and print the results.\n",
        "\n"
      ]
    },
    {
      "cell_type": "code",
      "metadata": {
        "colab": {
          "base_uri": "https://localhost:8080/"
        },
        "id": "f030e9bb",
        "outputId": "5265e9fd-adbf-460f-f719-6fdf5ef96710"
      },
      "source": [
        "print(\"--- Demonstrating Common NumPy Functions ---\")\n",
        "\n",
        "numpy_array1 = np.array([10, 20, 30, 40, 50])\n",
        "print(\"\\nUsing numpy_array_from_tuple:\")\n",
        "print(\"Sum:\", np.sum(numpy_array1))\n",
        "print(\"Mean:\", np.mean(numpy_array1))\n",
        "print(\"Max:\", np.max(numpy_array1))\n",
        "print(\"Min:\", np.min(numpy_array1))\n",
        "\n",
        "numpy_array2 = np.array([[1, 2, 3], [4, 5, 6]])\n",
        "print(\"\\nUsing numpy_array_from_list_of_lists:\")\n",
        "print(\"Sum:\", np.sum(numpy_array2))\n",
        "print(\"Mean:\", np.mean(numpy_array2))\n",
        "print(\"Max:\", np.max(numpy_array2))\n",
        "print(\"Min:\", np.min(numpy_array2))\n",
        "\n",
        "# Demonstrating axis parameter for 2D array\n",
        "print(\"\\nUsing numpy_array_from_list_of_lists with axis:\")\n",
        "print(\"Sum along axis 0 (columns):\", np.sum(numpy_array2, axis=0))\n",
        "print(\"Mean along axis 1 (rows):\", np.mean(numpy_array2, axis=1))"
      ],
      "execution_count": 66,
      "outputs": [
        {
          "output_type": "stream",
          "name": "stdout",
          "text": [
            "--- Demonstrating Common NumPy Functions ---\n",
            "\n",
            "Using numpy_array_from_tuple:\n",
            "Sum: 150\n",
            "Mean: 30.0\n",
            "Max: 50\n",
            "Min: 10\n",
            "\n",
            "Using numpy_array_from_list_of_lists:\n",
            "Sum: 21\n",
            "Mean: 3.5\n",
            "Max: 6\n",
            "Min: 1\n",
            "\n",
            "Using numpy_array_from_list_of_lists with axis:\n",
            "Sum along axis 0 (columns): [5 7 9]\n",
            "Mean along axis 1 (rows): [2. 5.]\n"
          ]
        }
      ]
    },
    {
      "cell_type": "markdown",
      "metadata": {
        "id": "e2b00a2b"
      },
      "source": [
        "# Basic Linear Algebra with NumPy\n",
        "\n",
        "NumPy provides efficient functions for basic linear algebra operations, which are fundamental in many areas like machine learning, physics, and engineering.\n",
        "\n",
        "Key operations include dot product and matrix multiplication.\n"
      ]
    },
    {
      "cell_type": "markdown",
      "metadata": {
        "id": "71266817"
      },
      "source": [
        "# **Dot Product:**\n",
        "The dot product is a scalar value calculated from two vectors (1D arrays). It is the sum of the products of the corresponding elements.\n",
        "\n"
      ]
    },
    {
      "cell_type": "code",
      "source": [
        "# Example of dot product with two 1D arrays\n",
        "vec1 = np.array([1, 2, 3])\n",
        "vec2 = np.array([4, 5, 6])\n",
        "\n",
        "# Calculate the dot product\n",
        "dot_product_result = np.dot(vec1, vec2)\n",
        "print(dot_product_result)\n",
        "\n",
        "# Alternatively, you can use the @ operator for dot product of 1D arrays (Python 3.5+)\n",
        "dot_product_result = vec1 @ vec2\n",
        "print(dot_product_result)\n",
        "\n"
      ],
      "metadata": {
        "colab": {
          "base_uri": "https://localhost:8080/"
        },
        "id": "X9awNv9a6yBD",
        "outputId": "4f1f3d09-4638-4429-a84d-497892e4ffcb"
      },
      "execution_count": 70,
      "outputs": [
        {
          "output_type": "stream",
          "name": "stdout",
          "text": [
            "32\n",
            "32\n"
          ]
        }
      ]
    },
    {
      "cell_type": "markdown",
      "source": [
        "# **Matrix Multiplication:**\n",
        "\n",
        "Matrix multiplication is an operation that produces a new matrix from two matrices.\n",
        "\n",
        "The number of columns in the first matrix must be equal to the number of rows in the second matrix."
      ],
      "metadata": {
        "id": "FZxkhaji7mzf"
      }
    },
    {
      "cell_type": "code",
      "source": [
        "# Example of matrix multiplication with two 2D arrays\n",
        "matrix1 = np.array([\n",
        "    [1, 2],\n",
        "    [3, 4]])\n",
        "matrix2 = np.array([\n",
        "    [5, 6],\n",
        "    [7, 8]])\n",
        "\n",
        "# Calculate matrix multiplication using np.matmul()\n",
        "matrix_multiplication_result_matmul = np.matmul(matrix1, matrix2)\n",
        "print(matrix_multiplication_result_matmul)\n",
        "\n",
        "# Alternatively, you can use the @ operator for matrix multiplication (Python 3.5+)\n",
        "matrix_multiplication_result_at = matrix1 @ matrix2\n",
        "print(matrix_multiplication_result_at)\n"
      ],
      "metadata": {
        "colab": {
          "base_uri": "https://localhost:8080/"
        },
        "id": "UisOwl0Y7uYF",
        "outputId": "6b39e646-5920-469d-e781-0ab6633800e5"
      },
      "execution_count": 72,
      "outputs": [
        {
          "output_type": "stream",
          "name": "stdout",
          "text": [
            "[[19 22]\n",
            " [43 50]]\n",
            "[[19 22]\n",
            " [43 50]]\n"
          ]
        }
      ]
    },
    {
      "cell_type": "markdown",
      "metadata": {
        "id": "238852fc"
      },
      "source": [
        "\n",
        "Execute the code examples for dot product and matrix multiplication and print the results with descriptive labels.\n",
        "\n"
      ]
    },
    {
      "cell_type": "code",
      "metadata": {
        "colab": {
          "base_uri": "https://localhost:8080/"
        },
        "id": "234ac887",
        "outputId": "202c43ac-feee-46c7-e337-cf05e7c841df"
      },
      "source": [
        "print(\"--- Demonstrating Basic Linear Algebra with NumPy ---\")\n",
        "\n",
        "# Dot product example\n",
        "vec1 = np.array([1, 2, 3])\n",
        "vec2 = np.array([4, 5, 6])\n",
        "dot_product_result = np.dot(vec1, vec2)\n",
        "print(\"\\nDot product of vec1 and vec2:\", dot_product_result)\n",
        "\n",
        "# Matrix multiplication example\n",
        "matrix1 = np.array([[1, 2], [3, 4]])\n",
        "matrix2 = np.array([[5, 6], [7, 8]])\n",
        "matrix_multiplication_result_matmul = np.matmul(matrix1, matrix2)\n",
        "print(\"\\nMatrix multiplication of matrix1 and matrix2 (using np.matmul):\\n\", matrix_multiplication_result_matmul)\n",
        "\n",
        "matrix_multiplication_result_at = matrix1 @ matrix2\n",
        "print(\"\\nMatrix multiplication of matrix1 and matrix2 (using @ operator):\\n\", matrix_multiplication_result_at)"
      ],
      "execution_count": 73,
      "outputs": [
        {
          "output_type": "stream",
          "name": "stdout",
          "text": [
            "--- Demonstrating Basic Linear Algebra with NumPy ---\n",
            "\n",
            "Dot product of vec1 and vec2: 32\n",
            "\n",
            "Matrix multiplication of matrix1 and matrix2 (using np.matmul):\n",
            " [[19 22]\n",
            " [43 50]]\n",
            "\n",
            "Matrix multiplication of matrix1 and matrix2 (using @ operator):\n",
            " [[19 22]\n",
            " [43 50]]\n"
          ]
        }
      ]
    },
    {
      "cell_type": "markdown",
      "metadata": {
        "id": "f59548a3"
      },
      "source": [
        "## Summary:\n",
        "\n",
        "### Data Analysis Key Findings\n",
        "\n",
        "*   NumPy is a fundamental library for numerical computing in Python, providing efficient support for multi-dimensional arrays and mathematical functions.\n",
        "*   NumPy arrays (`ndarrays`) can be easily created from Python lists and tuples using `np.array()`.\n",
        "*   Important array attributes include `shape` (dimensions), `dtype` (data type of elements), and `size` (total number of elements).\n",
        "*   NumPy supports intuitive indexing for accessing individual elements and powerful slicing (`[start:stop:step]`) for extracting subarrays, applicable to both 1D and multi-dimensional arrays.\n",
        "*   NumPy enables efficient element-wise operations on arrays of the same shape and leverages broadcasting to perform operations on arrays with compatible shapes.\n",
        "*   Common NumPy functions like `np.sum()`, `np.mean()`, `np.max()`, and `np.min()` are available for calculating summary statistics, including along specific axes.\n",
        "*   Basic linear algebra operations, such as dot product (`np.dot()` or `@` for 1D arrays) and matrix multiplication (`np.matmul()` or `@` for 2D arrays), are efficiently supported.\n",
        "\n",
        "### Insights or Next Steps\n",
        "\n",
        "*   The educational introduction successfully covered the core concepts of NumPy, providing a solid foundation for beginners.\n",
        "*   Encouraging users to practice and explore the official documentation and advanced topics is crucial for reinforcing learning and promoting deeper understanding.\n"
      ]
    }
  ]
}